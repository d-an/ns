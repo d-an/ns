{
 "metadata": {
  "name": "",
  "signature": "sha256:ade6d2ce4db3e627872884b31a9f6af8d37a10cedd886cd370754c31e4edf000"
 },
 "nbformat": 3,
 "nbformat_minor": 0,
 "worksheets": [
  {
   "cells": [
    {
     "cell_type": "code",
     "collapsed": false,
     "input": [
      "import numpy as np\n",
      "def sigm(x):\n",
      "    return 1/(1+np.exp(-x))"
     ],
     "language": "python",
     "metadata": {},
     "outputs": [],
     "prompt_number": 1
    },
    {
     "cell_type": "markdown",
     "metadata": {},
     "source": [
      "a, b, c, d, e, f, g, h, b1, b2, b3, b4\n",
      "0, 1, 2, 3, 4, 5, 6, 7, 8,  9,  10, 11"
     ]
    },
    {
     "cell_type": "code",
     "collapsed": false,
     "input": [
      "def func(x, y, p):\n",
      "    h1 = sigm(p[0]*x+p[2]*y+p[8])\n",
      "    h2 = sigm(p[1]*x+p[3]*y+p[9])\n",
      "    o1 = sigm(p[4]*h1+p[6]*h2+p[10])\n",
      "    o2 = sigm(p[5]*h1+p[7]*h2+p[11])\n",
      "    return np.array([o1, o2])"
     ],
     "language": "python",
     "metadata": {},
     "outputs": [],
     "prompt_number": 98
    },
    {
     "cell_type": "code",
     "collapsed": false,
     "input": [
      "x = np.array([[0, 0],\n",
      "              [1, 0],\n",
      "              [0, 1], \n",
      "              [1, 1]])\n",
      "x = np.vstack([x, x, x, x])"
     ],
     "language": "python",
     "metadata": {},
     "outputs": [],
     "prompt_number": 109
    },
    {
     "cell_type": "code",
     "collapsed": false,
     "input": [
      "y = np.array([[0, 0], \n",
      "              [0, 1], \n",
      "              [0, 1], \n",
      "              [1, 0]])\n",
      "y = np.vstack([y, y, y, y])"
     ],
     "language": "python",
     "metadata": {},
     "outputs": [],
     "prompt_number": 110
    },
    {
     "cell_type": "code",
     "collapsed": false,
     "input": [
      "e = lambda "
     ],
     "language": "python",
     "metadata": {},
     "outputs": []
    },
    {
     "cell_type": "code",
     "collapsed": false,
     "input": [
      "def diff(x, y, p):\n",
      "    return (np.array([func(item[0], item[1], p) for item in x])-y).ravel()"
     ],
     "language": "python",
     "metadata": {},
     "outputs": [],
     "prompt_number": 111
    },
    {
     "cell_type": "code",
     "collapsed": false,
     "input": [
      "def diff_to_be_opt(p):\n",
      "    return diff(x, y, p)"
     ],
     "language": "python",
     "metadata": {},
     "outputs": [],
     "prompt_number": 112
    },
    {
     "cell_type": "code",
     "collapsed": false,
     "input": [
      "from scipy.optimize import leastsq"
     ],
     "language": "python",
     "metadata": {},
     "outputs": [],
     "prompt_number": 113
    },
    {
     "cell_type": "code",
     "collapsed": false,
     "input": [
      "p_0 = 2*np.random.rand(12)-1"
     ],
     "language": "python",
     "metadata": {},
     "outputs": [],
     "prompt_number": 125
    },
    {
     "cell_type": "code",
     "collapsed": false,
     "input": [
      "p, success = leastsq(diff_to_be_opt, p_0, maxfev=1000000000)"
     ],
     "language": "python",
     "metadata": {},
     "outputs": [],
     "prompt_number": 126
    },
    {
     "cell_type": "code",
     "collapsed": false,
     "input": [
      "p_0.reshape([3,4])"
     ],
     "language": "python",
     "metadata": {},
     "outputs": [
      {
       "metadata": {},
       "output_type": "pyout",
       "prompt_number": 129,
       "text": [
        "array([[ 0.93190448, -0.0127127 , -0.91946074,  0.89007325],\n",
        "       [ 0.504482  ,  0.42333919,  0.23587895,  0.44183889],\n",
        "       [-0.39701698,  0.25826441, -0.6493161 , -0.96673923]])"
       ]
      }
     ],
     "prompt_number": 129
    },
    {
     "cell_type": "code",
     "collapsed": false,
     "input": [
      "p"
     ],
     "language": "python",
     "metadata": {},
     "outputs": [
      {
       "metadata": {},
       "output_type": "pyout",
       "prompt_number": 128,
       "text": [
        "array([ 18.90197087,  15.98332345,  21.23120737,  16.55339679,\n",
        "        -1.71288956,  46.10638603,  47.84897817, -46.85311962,\n",
        "       -11.52683653, -23.26800273, -23.68022575, -22.82909134])"
       ]
      }
     ],
     "prompt_number": 128
    },
    {
     "cell_type": "code",
     "collapsed": false,
     "input": [
      "x = x[:4,:]\n",
      "y = y[:4,:]"
     ],
     "language": "python",
     "metadata": {},
     "outputs": [],
     "prompt_number": 137
    },
    {
     "cell_type": "code",
     "collapsed": false,
     "input": [
      "output = np.array([func(item[0], item[1], p) for item in x])"
     ],
     "language": "python",
     "metadata": {},
     "outputs": [],
     "prompt_number": 138
    },
    {
     "cell_type": "code",
     "collapsed": false,
     "input": [
      "output>0.5"
     ],
     "language": "python",
     "metadata": {},
     "outputs": [
      {
       "metadata": {},
       "output_type": "pyout",
       "prompt_number": 139,
       "text": [
        "array([[False, False],\n",
        "       [False,  True],\n",
        "       [False,  True],\n",
        "       [ True, False]], dtype=bool)"
       ]
      }
     ],
     "prompt_number": 139
    },
    {
     "cell_type": "code",
     "collapsed": false,
     "input": [
      "y"
     ],
     "language": "python",
     "metadata": {},
     "outputs": [
      {
       "metadata": {},
       "output_type": "pyout",
       "prompt_number": 140,
       "text": [
        "array([[0, 0],\n",
        "       [0, 1],\n",
        "       [0, 1],\n",
        "       [1, 0]])"
       ]
      }
     ],
     "prompt_number": 140
    },
    {
     "cell_type": "markdown",
     "metadata": {},
     "source": [
      "a, b, c, d, e, f, g, h, b1, b2, b3, b4\n",
      "0, 1, 2, 3, 4, 5, 6, 7, 8,  9,  10, 11"
     ]
    },
    {
     "cell_type": "code",
     "collapsed": false,
     "input": [
      "p"
     ],
     "language": "python",
     "metadata": {},
     "outputs": [
      {
       "metadata": {},
       "output_type": "pyout",
       "prompt_number": 142,
       "text": [
        "array([ 18.90197087,  15.98332345,  21.23120737,  16.55339679,\n",
        "        -1.71288956,  46.10638603,  47.84897817, -46.85311962,\n",
        "       -11.52683653, -23.26800273, -23.68022575, -22.82909134])"
       ]
      }
     ],
     "prompt_number": 142
    },
    {
     "cell_type": "code",
     "collapsed": false,
     "input": [
      "pismena = ('a','b','c','d','e','f','g','h','b1','b2','b3','b4')"
     ],
     "language": "python",
     "metadata": {},
     "outputs": [],
     "prompt_number": 147
    },
    {
     "cell_type": "code",
     "collapsed": false,
     "input": [
      "for i in range(len(pismena)):\n",
      "    print(pismena[i] + ' = ' + str(p[i]))"
     ],
     "language": "python",
     "metadata": {},
     "outputs": [
      {
       "output_type": "stream",
       "stream": "stdout",
       "text": [
        "a = 18.901970867\n",
        "b = 15.9833234517\n",
        "c = 21.2312073716\n",
        "d = 16.5533967904\n",
        "e = -1.71288955629\n",
        "f = 46.1063860284\n",
        "g = 47.848978174\n",
        "h = -46.8531196222\n",
        "b1 = -11.5268365301\n",
        "b2 = -23.2680027279\n",
        "b3 = -23.6802257491\n",
        "b4 = -22.8290913373\n"
       ]
      }
     ],
     "prompt_number": 148
    },
    {
     "cell_type": "code",
     "collapsed": false,
     "input": [],
     "language": "python",
     "metadata": {},
     "outputs": []
    }
   ],
   "metadata": {}
  }
 ]
}